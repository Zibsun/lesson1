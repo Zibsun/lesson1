{
 "cells": [
  {
   "cell_type": "code",
   "execution_count": 5,
   "metadata": {
    "collapsed": true
   },
   "outputs": [],
   "source": [
    "greeting_text = \"\"\"Добрый день, {}! Я чатбот-коуч. \n",
    "Я умею задавать вопросы. У меня нет мозгов, но ничего страшного, у других коучей их тоже нет!\n",
    "\n",
    "Давай договоримся. Я буду задавать вопросы, а ты на них отвечать. \n",
    "\n",
    "НАЧИНАЕМ!\n",
    "\n",
    "Кратко опиши мне свою проблему.\"\"\""
   ]
  },
  {
   "cell_type": "code",
   "execution_count": 6,
   "metadata": {},
   "outputs": [
    {
     "data": {
      "text/plain": [
       "'Добрый день, update.message.chat.first_name! Я чатбот-коуч. \\nЯ умею задавать вопросы. У меня нет мозгов, но ничего страшного, у других коучей их тоже нет!\\n\\nДавай договоримся. Я буду задавать вопросы, а ты на них отвечать. \\n\\nНАЧИНАЕМ!\\n\\nКратко опиши мне свою проблему.'"
      ]
     },
     "execution_count": 6,
     "metadata": {},
     "output_type": "execute_result"
    }
   ],
   "source": [
    "print (greeting_text.format(\"update.message.chat.first_name\", \"sss\"))"
   ]
  },
  {
   "cell_type": "code",
   "execution_count": null,
   "metadata": {
    "collapsed": true
   },
   "outputs": [],
   "source": []
  }
 ],
 "metadata": {
  "kernelspec": {
   "display_name": "Python 3",
   "language": "python",
   "name": "python3"
  },
  "language_info": {
   "codemirror_mode": {
    "name": "ipython",
    "version": 3
   },
   "file_extension": ".py",
   "mimetype": "text/x-python",
   "name": "python",
   "nbconvert_exporter": "python",
   "pygments_lexer": "ipython3",
   "version": "3.6.1"
  }
 },
 "nbformat": 4,
 "nbformat_minor": 2
}
